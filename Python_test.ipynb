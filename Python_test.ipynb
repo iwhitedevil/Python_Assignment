{
  "nbformat": 4,
  "nbformat_minor": 0,
  "metadata": {
    "colab": {
      "provenance": []
    },
    "kernelspec": {
      "name": "python3",
      "display_name": "Python 3"
    },
    "language_info": {
      "name": "python"
    }
  },
  "cells": [
    {
      "cell_type": "code",
      "execution_count": 1,
      "metadata": {
        "colab": {
          "base_uri": "https://localhost:8080/"
        },
        "id": "QLoCCh7s0yVd",
        "outputId": "457a54c7-18ff-438c-a388-4d4f6064bbb9"
      },
      "outputs": [
        {
          "output_type": "stream",
          "name": "stdout",
          "text": [
            "Enter a number: 'abc'\n",
            "Invalid input\n"
          ]
        }
      ],
      "source": [
        "try:\n",
        "    num = int(input(\"Enter a number: \"))\n",
        "    print(\"You entered:\", num)\n",
        "except ValueError:\n",
        "    print(\"Invalid input\")\n"
      ]
    },
    {
      "cell_type": "code",
      "source": [
        "try:\n",
        "    num = int(input(\"Enter a positive integer: \"))\n",
        "    if num <= 0:\n",
        "        raise ValueError(\"Not a positive integer\")\n",
        "except ValueError as e:\n",
        "    print(\"Error:\", str(e))\n"
      ],
      "metadata": {
        "colab": {
          "base_uri": "https://localhost:8080/"
        },
        "id": "dmm4OFUA11sB",
        "outputId": "00b82d7a-cd38-43d5-afbf-50c59057a661"
      },
      "execution_count": 2,
      "outputs": [
        {
          "output_type": "stream",
          "name": "stdout",
          "text": [
            "Enter a positive integer: '-3'\n",
            "Error: invalid literal for int() with base 10: \"'-3'\"\n"
          ]
        }
      ]
    },
    {
      "cell_type": "code",
      "source": [
        "try:\n",
        "    num = int(input(\"Enter a positive integer: \"))\n",
        "    if num <= 0:\n",
        "        raise ValueError(\"Not a positive integer\")\n",
        "except ValueError as e:\n",
        "    print(\"Error:\", str(e))\n"
      ],
      "metadata": {
        "colab": {
          "base_uri": "https://localhost:8080/"
        },
        "id": "1Ar4-k3D2MBa",
        "outputId": "7d94288c-33ae-49b1-e4ea-f597696834f1"
      },
      "execution_count": 3,
      "outputs": [
        {
          "output_type": "stream",
          "name": "stdout",
          "text": [
            "Enter a positive integer: -3\n",
            "Error: Not a positive integer\n"
          ]
        }
      ]
    },
    {
      "cell_type": "code",
      "source": [
        "try:\n",
        "    num = int(input(\"Enter a number: \"))\n",
        "    result = 10 / num\n",
        "except ValueError:\n",
        "    result = 0\n",
        "except ZeroDivisionError:\n",
        "    result = \"Infinity\"\n",
        "finally:\n",
        "    print(\"Result:\", result)\n"
      ],
      "metadata": {
        "colab": {
          "base_uri": "https://localhost:8080/"
        },
        "id": "VG7yxkNP2WcY",
        "outputId": "c9f92e4e-1596-4dae-ba9c-37ccdf5fc30a"
      },
      "execution_count": 4,
      "outputs": [
        {
          "output_type": "stream",
          "name": "stdout",
          "text": [
            "Enter a number: 0\n",
            "Result: Infinity\n"
          ]
        }
      ]
    },
    {
      "cell_type": "code",
      "source": [
        "numbers = [1, 2, 3, 4, 5]\n",
        "squared_values = [x ** 2 for x in numbers]\n",
        "print(squared_values)\n"
      ],
      "metadata": {
        "colab": {
          "base_uri": "https://localhost:8080/"
        },
        "id": "LrqE8qXf2gRl",
        "outputId": "763a9cc8-c11d-494a-88db-8fd1d4099c4a"
      },
      "execution_count": 5,
      "outputs": [
        {
          "output_type": "stream",
          "name": "stdout",
          "text": [
            "[1, 4, 9, 16, 25]\n"
          ]
        }
      ]
    },
    {
      "cell_type": "code",
      "source": [
        "my_dict = {'a': 1, 'b': 2, 'c': 3}\n",
        "del my_dict['b']\n",
        "print(len(my_dict))\n"
      ],
      "metadata": {
        "colab": {
          "base_uri": "https://localhost:8080/"
        },
        "id": "RBoj-Ay521ay",
        "outputId": "5dd494ca-5a5c-44b6-c921-dbd2ba49299b"
      },
      "execution_count": 6,
      "outputs": [
        {
          "output_type": "stream",
          "name": "stdout",
          "text": [
            "2\n"
          ]
        }
      ]
    },
    {
      "cell_type": "code",
      "source": [
        "a = []\n",
        "b = []\n",
        "\n",
        "for i in range(1, 11):\n",
        "    if i % 2:\n",
        "        a.append(i)\n",
        "\n",
        "for i in range(1, 11):\n",
        "    if i % 4:\n",
        "        b.append(i)\n",
        "\n",
        "a = set(a)\n",
        "b = set(b)\n",
        "\n",
        "a.update(b)\n",
        "\n",
        "print(a)\n"
      ],
      "metadata": {
        "colab": {
          "base_uri": "https://localhost:8080/"
        },
        "id": "kc8C4qAi24sK",
        "outputId": "eabd4b04-55d0-4fd1-8db2-9643305c9953"
      },
      "execution_count": 7,
      "outputs": [
        {
          "output_type": "stream",
          "name": "stdout",
          "text": [
            "{1, 2, 3, 5, 6, 7, 9, 10}\n"
          ]
        }
      ]
    },
    {
      "cell_type": "code",
      "source": [
        "value = 10\n",
        "result = value * 2 if value > 5 else value / 2\n",
        "print(result)\n"
      ],
      "metadata": {
        "colab": {
          "base_uri": "https://localhost:8080/"
        },
        "id": "D3mWknMN2-Fw",
        "outputId": "019dfc4f-8679-46c0-9b2b-cada7f78d9c4"
      },
      "execution_count": 8,
      "outputs": [
        {
          "output_type": "stream",
          "name": "stdout",
          "text": [
            "20\n"
          ]
        }
      ]
    },
    {
      "cell_type": "code",
      "source": [
        "text = \"Hello, World!\"\n",
        "print(text[::-1])\n"
      ],
      "metadata": {
        "colab": {
          "base_uri": "https://localhost:8080/"
        },
        "id": "pk_ArCvX3CfN",
        "outputId": "0b5507e1-3d5c-4849-c285-90fb681cde78"
      },
      "execution_count": 9,
      "outputs": [
        {
          "output_type": "stream",
          "name": "stdout",
          "text": [
            "!dlroW ,olleH\n"
          ]
        }
      ]
    },
    {
      "cell_type": "code",
      "source": [
        "def my_generator():\n",
        "    yield 1\n",
        "    yield 2\n",
        "    yield 3\n",
        "\n",
        "gen = my_generator()\n",
        "print(next(gen) + next(gen))\n"
      ],
      "metadata": {
        "colab": {
          "base_uri": "https://localhost:8080/"
        },
        "id": "q4eVULRB3G0G",
        "outputId": "68deb7ec-b56a-4435-ce79-16ea05e8da81"
      },
      "execution_count": 10,
      "outputs": [
        {
          "output_type": "stream",
          "name": "stdout",
          "text": [
            "3\n"
          ]
        }
      ]
    },
    {
      "cell_type": "code",
      "source": [
        "import math\n",
        "\n",
        "result = math.sqrt(-1)\n",
        "print(result)\n"
      ],
      "metadata": {
        "colab": {
          "base_uri": "https://localhost:8080/",
          "height": 227
        },
        "id": "wRytW1s43LRr",
        "outputId": "239c817d-1485-4763-d26c-821a34338e73"
      },
      "execution_count": 12,
      "outputs": [
        {
          "output_type": "error",
          "ename": "ValueError",
          "evalue": "ignored",
          "traceback": [
            "\u001b[0;31m---------------------------------------------------------------------------\u001b[0m",
            "\u001b[0;31mValueError\u001b[0m                                Traceback (most recent call last)",
            "\u001b[0;32m<ipython-input-12-1e97b3a3eb4c>\u001b[0m in \u001b[0;36m<cell line: 3>\u001b[0;34m()\u001b[0m\n\u001b[1;32m      1\u001b[0m \u001b[0;32mimport\u001b[0m \u001b[0mmath\u001b[0m\u001b[0;34m\u001b[0m\u001b[0;34m\u001b[0m\u001b[0m\n\u001b[1;32m      2\u001b[0m \u001b[0;34m\u001b[0m\u001b[0m\n\u001b[0;32m----> 3\u001b[0;31m \u001b[0mresult\u001b[0m \u001b[0;34m=\u001b[0m \u001b[0mmath\u001b[0m\u001b[0;34m.\u001b[0m\u001b[0msqrt\u001b[0m\u001b[0;34m(\u001b[0m\u001b[0;34m-\u001b[0m\u001b[0;36m1\u001b[0m\u001b[0;34m)\u001b[0m\u001b[0;34m\u001b[0m\u001b[0;34m\u001b[0m\u001b[0m\n\u001b[0m\u001b[1;32m      4\u001b[0m \u001b[0mprint\u001b[0m\u001b[0;34m(\u001b[0m\u001b[0mresult\u001b[0m\u001b[0;34m)\u001b[0m\u001b[0;34m\u001b[0m\u001b[0;34m\u001b[0m\u001b[0m\n",
            "\u001b[0;31mValueError\u001b[0m: math domain error"
          ]
        }
      ]
    },
    {
      "cell_type": "code",
      "source": [
        "def outer_func():\n",
        "    x = 10\n",
        "    def inner_func():\n",
        "        nonlocal x\n",
        "        x += 5\n",
        "    inner_func()\n",
        "    return x\n",
        "\n",
        "result = outer_func()\n",
        "print(result)\n"
      ],
      "metadata": {
        "colab": {
          "base_uri": "https://localhost:8080/"
        },
        "id": "JKbo1Lva3Ptp",
        "outputId": "245c2804-4a51-43ae-f7ce-0577e93895b8"
      },
      "execution_count": 13,
      "outputs": [
        {
          "output_type": "stream",
          "name": "stdout",
          "text": [
            "15\n"
          ]
        }
      ]
    },
    {
      "cell_type": "code",
      "source": [
        "class A:\n",
        "    def __init__(self, value):\n",
        "        self.value = value\n",
        "\n",
        "a = A(10)\n",
        "b = A(20)\n",
        "print(a + b)\n"
      ],
      "metadata": {
        "colab": {
          "base_uri": "https://localhost:8080/",
          "height": 210
        },
        "id": "tzhyizEv3dIe",
        "outputId": "acb6a3af-114a-49c0-9792-2b13d8e8e9f5"
      },
      "execution_count": 14,
      "outputs": [
        {
          "output_type": "error",
          "ename": "TypeError",
          "evalue": "ignored",
          "traceback": [
            "\u001b[0;31m---------------------------------------------------------------------------\u001b[0m",
            "\u001b[0;31mTypeError\u001b[0m                                 Traceback (most recent call last)",
            "\u001b[0;32m<ipython-input-14-745da4700408>\u001b[0m in \u001b[0;36m<cell line: 7>\u001b[0;34m()\u001b[0m\n\u001b[1;32m      5\u001b[0m \u001b[0ma\u001b[0m \u001b[0;34m=\u001b[0m \u001b[0mA\u001b[0m\u001b[0;34m(\u001b[0m\u001b[0;36m10\u001b[0m\u001b[0;34m)\u001b[0m\u001b[0;34m\u001b[0m\u001b[0;34m\u001b[0m\u001b[0m\n\u001b[1;32m      6\u001b[0m \u001b[0mb\u001b[0m \u001b[0;34m=\u001b[0m \u001b[0mA\u001b[0m\u001b[0;34m(\u001b[0m\u001b[0;36m20\u001b[0m\u001b[0;34m)\u001b[0m\u001b[0;34m\u001b[0m\u001b[0;34m\u001b[0m\u001b[0m\n\u001b[0;32m----> 7\u001b[0;31m \u001b[0mprint\u001b[0m\u001b[0;34m(\u001b[0m\u001b[0ma\u001b[0m \u001b[0;34m+\u001b[0m \u001b[0mb\u001b[0m\u001b[0;34m)\u001b[0m\u001b[0;34m\u001b[0m\u001b[0;34m\u001b[0m\u001b[0m\n\u001b[0m",
            "\u001b[0;31mTypeError\u001b[0m: unsupported operand type(s) for +: 'A' and 'A'"
          ]
        }
      ]
    },
    {
      "cell_type": "code",
      "source": [
        "def divide(x, y):\n",
        "    try:\n",
        "        result = x / y\n",
        "    except ZeroDivisionError as e:\n",
        "        result = str(e)\n",
        "    finally:\n",
        "        result += \" Done\"\n",
        "    return result\n",
        "\n",
        "result = divide(10, 2)\n",
        "print(result)\n"
      ],
      "metadata": {
        "colab": {
          "base_uri": "https://localhost:8080/",
          "height": 349
        },
        "id": "AFJ7QtYP3gwp",
        "outputId": "f3f538e1-c25b-45f5-a9ea-23023d793bec"
      },
      "execution_count": 15,
      "outputs": [
        {
          "output_type": "error",
          "ename": "TypeError",
          "evalue": "ignored",
          "traceback": [
            "\u001b[0;31m---------------------------------------------------------------------------\u001b[0m",
            "\u001b[0;31mTypeError\u001b[0m                                 Traceback (most recent call last)",
            "\u001b[0;32m<ipython-input-15-c559b0ad2d6a>\u001b[0m in \u001b[0;36m<cell line: 10>\u001b[0;34m()\u001b[0m\n\u001b[1;32m      8\u001b[0m     \u001b[0;32mreturn\u001b[0m \u001b[0mresult\u001b[0m\u001b[0;34m\u001b[0m\u001b[0;34m\u001b[0m\u001b[0m\n\u001b[1;32m      9\u001b[0m \u001b[0;34m\u001b[0m\u001b[0m\n\u001b[0;32m---> 10\u001b[0;31m \u001b[0mresult\u001b[0m \u001b[0;34m=\u001b[0m \u001b[0mdivide\u001b[0m\u001b[0;34m(\u001b[0m\u001b[0;36m10\u001b[0m\u001b[0;34m,\u001b[0m \u001b[0;36m2\u001b[0m\u001b[0;34m)\u001b[0m\u001b[0;34m\u001b[0m\u001b[0;34m\u001b[0m\u001b[0m\n\u001b[0m\u001b[1;32m     11\u001b[0m \u001b[0mprint\u001b[0m\u001b[0;34m(\u001b[0m\u001b[0mresult\u001b[0m\u001b[0;34m)\u001b[0m\u001b[0;34m\u001b[0m\u001b[0;34m\u001b[0m\u001b[0m\n",
            "\u001b[0;32m<ipython-input-15-c559b0ad2d6a>\u001b[0m in \u001b[0;36mdivide\u001b[0;34m(x, y)\u001b[0m\n\u001b[1;32m      5\u001b[0m         \u001b[0mresult\u001b[0m \u001b[0;34m=\u001b[0m \u001b[0mstr\u001b[0m\u001b[0;34m(\u001b[0m\u001b[0me\u001b[0m\u001b[0;34m)\u001b[0m\u001b[0;34m\u001b[0m\u001b[0;34m\u001b[0m\u001b[0m\n\u001b[1;32m      6\u001b[0m     \u001b[0;32mfinally\u001b[0m\u001b[0;34m:\u001b[0m\u001b[0;34m\u001b[0m\u001b[0;34m\u001b[0m\u001b[0m\n\u001b[0;32m----> 7\u001b[0;31m         \u001b[0mresult\u001b[0m \u001b[0;34m+=\u001b[0m \u001b[0;34m\" Done\"\u001b[0m\u001b[0;34m\u001b[0m\u001b[0;34m\u001b[0m\u001b[0m\n\u001b[0m\u001b[1;32m      8\u001b[0m     \u001b[0;32mreturn\u001b[0m \u001b[0mresult\u001b[0m\u001b[0;34m\u001b[0m\u001b[0;34m\u001b[0m\u001b[0m\n\u001b[1;32m      9\u001b[0m \u001b[0;34m\u001b[0m\u001b[0m\n",
            "\u001b[0;31mTypeError\u001b[0m: unsupported operand type(s) for +=: 'float' and 'str'"
          ]
        }
      ]
    },
    {
      "cell_type": "code",
      "source": [
        "x = 5\n",
        "y = x if x > 0 else 0\n",
        "x = 0\n",
        "print(y)\n"
      ],
      "metadata": {
        "colab": {
          "base_uri": "https://localhost:8080/"
        },
        "id": "GK7XvjkL3oYw",
        "outputId": "ae014f5a-26b8-4c63-f0e3-813b29e37475"
      },
      "execution_count": 16,
      "outputs": [
        {
          "output_type": "stream",
          "name": "stdout",
          "text": [
            "5\n"
          ]
        }
      ]
    },
    {
      "cell_type": "code",
      "source": [
        "my_list = [1, 2, 3, 4]\n",
        "new_list = my_list[1:3]\n",
        "new_list.append(5)\n",
        "print(my_list)\n"
      ],
      "metadata": {
        "colab": {
          "base_uri": "https://localhost:8080/"
        },
        "id": "W2NUVTvS3_WA",
        "outputId": "21f77060-5b83-449c-b273-01950fbc31e1"
      },
      "execution_count": 17,
      "outputs": [
        {
          "output_type": "stream",
          "name": "stdout",
          "text": [
            "[1, 2, 3, 4]\n"
          ]
        }
      ]
    },
    {
      "cell_type": "code",
      "source": [
        "def is_even(num):\n",
        "    return num % 2 == 0\n",
        "\n",
        "numbers = [1, 2, 3, 4, 5]\n",
        "even_numbers = list(filter(is_even, numbers))\n",
        "print(even_numbers)\n"
      ],
      "metadata": {
        "colab": {
          "base_uri": "https://localhost:8080/"
        },
        "id": "lLVl_r8S4FQP",
        "outputId": "528ceab1-67b3-4434-b3dc-227232a0048c"
      },
      "execution_count": 18,
      "outputs": [
        {
          "output_type": "stream",
          "name": "stdout",
          "text": [
            "[2, 4]\n"
          ]
        }
      ]
    },
    {
      "cell_type": "code",
      "source": [
        "def greet(name, message=\"Hello\"):\n",
        "    print(message, name)\n",
        "\n",
        "greet(\"Alice\")\n"
      ],
      "metadata": {
        "colab": {
          "base_uri": "https://localhost:8080/"
        },
        "id": "KmE0bFsw4LF7",
        "outputId": "161e71f3-4474-4a57-8109-ea945da78cc2"
      },
      "execution_count": 19,
      "outputs": [
        {
          "output_type": "stream",
          "name": "stdout",
          "text": [
            "Hello Alice\n"
          ]
        }
      ]
    },
    {
      "cell_type": "code",
      "source": [
        "def add(a, b):\n",
        "    return a + b\n",
        "\n",
        "def multiply(a, b):\n",
        "    return a * b\n",
        "\n",
        "\n",
        "\n",
        "result = add(3, multiply(2, 4))\n",
        "print(result)\n"
      ],
      "metadata": {
        "colab": {
          "base_uri": "https://localhost:8080/"
        },
        "id": "9aYEMIYt4TFP",
        "outputId": "70cec7b2-f6cc-4982-87b9-c281d34a0282"
      },
      "execution_count": 20,
      "outputs": [
        {
          "output_type": "stream",
          "name": "stdout",
          "text": [
            "11\n"
          ]
        }
      ]
    },
    {
      "cell_type": "code",
      "source": [
        "def factorial(n):\n",
        "    if n == 0:\n",
        "        return 1\n",
        "    return n * factorial(n - 1)\n",
        "\n",
        "result = factorial(5)\n",
        "print(result)\n"
      ],
      "metadata": {
        "colab": {
          "base_uri": "https://localhost:8080/"
        },
        "id": "9lcynOTf4W3s",
        "outputId": "5fc24659-98f8-4d01-a8f7-bcb32874fb86"
      },
      "execution_count": 21,
      "outputs": [
        {
          "output_type": "stream",
          "name": "stdout",
          "text": [
            "120\n"
          ]
        }
      ]
    },
    {
      "cell_type": "code",
      "source": [
        "my_set = {1, 2, 3}\n",
        "my_set.add(4)\n",
        "my_set.remove(2)\n",
        "print(len(my_set))\n"
      ],
      "metadata": {
        "colab": {
          "base_uri": "https://localhost:8080/"
        },
        "id": "7PPgeUd44bbr",
        "outputId": "8bc6086e-8a99-4f65-a83d-09d21ea76728"
      },
      "execution_count": 22,
      "outputs": [
        {
          "output_type": "stream",
          "name": "stdout",
          "text": [
            "3\n"
          ]
        }
      ]
    },
    {
      "cell_type": "code",
      "source": [
        "def is_palindrome(s):\n",
        "    return s == s[::-1]\n",
        "\n",
        "result = is_palindrome(\"racecar\")\n",
        "print(result)\n"
      ],
      "metadata": {
        "colab": {
          "base_uri": "https://localhost:8080/"
        },
        "id": "jwqwXjho4fDF",
        "outputId": "d018ab95-fb88-493f-ddd5-b7e2a22a979f"
      },
      "execution_count": 23,
      "outputs": [
        {
          "output_type": "stream",
          "name": "stdout",
          "text": [
            "True\n"
          ]
        }
      ]
    },
    {
      "cell_type": "code",
      "source": [
        "def uppercase_decorator(func):\n",
        "    def inside(*args, **kwargs):\n",
        "        result = func(*args, **kwargs)\n",
        "        return result.upper()\n",
        "    return inside\n",
        "\n",
        "@uppercase_decorator\n",
        "def greet(name):\n",
        "    return f\"Hello, {name}\"\n",
        "print(greet(\"Alice\"))\n"
      ],
      "metadata": {
        "colab": {
          "base_uri": "https://localhost:8080/"
        },
        "id": "bFATZHkX4ilR",
        "outputId": "55b7cf86-a30e-49f0-b083-06c55e058124"
      },
      "execution_count": 24,
      "outputs": [
        {
          "output_type": "stream",
          "name": "stdout",
          "text": [
            "HELLO, ALICE\n"
          ]
        }
      ]
    },
    {
      "cell_type": "code",
      "source": [
        "import time\n",
        "def performance_timer(func):\n",
        "\n",
        "\n",
        "    def inside(*args, **kwargs):\n",
        "        start_time = time.time()\n",
        "        result = func(*args, **kwargs)\n",
        "        end_time = time.time()\n",
        "        print(f\"Time taken: {end_time - start_time} seconds\")\n",
        "        return result\n",
        "\n",
        "    return inside\n",
        "\n",
        "@performance_timer\n",
        "def slow_function():\n",
        "    time.sleep(2)\n",
        "\n",
        "slow_function()\n"
      ],
      "metadata": {
        "colab": {
          "base_uri": "https://localhost:8080/"
        },
        "id": "dVTVDXAO4n7S",
        "outputId": "bdef2e55-b921-4719-d4b1-98ff87cf2d67"
      },
      "execution_count": 26,
      "outputs": [
        {
          "output_type": "stream",
          "name": "stdout",
          "text": [
            "Time taken: 2.0040030479431152 seconds\n"
          ]
        }
      ]
    },
    {
      "cell_type": "code",
      "source": [
        "def performance_timer(func):\n",
        "\n",
        "    def inside(*args, **kwargs):\n",
        "        start_time = time.time()\n",
        "        result = func(*args, **kwargs)\n",
        "        end_time = time.time()\n",
        "        print(f\"Time taken: {end_time - start_time} seconds\")\n",
        "        return result\n",
        "\n",
        "    return inside\n",
        "\n",
        "@performance_timer\n",
        "def slow_function():\n",
        "    time.sleep(2)\n",
        "\n",
        "slow_function()\n"
      ],
      "metadata": {
        "colab": {
          "base_uri": "https://localhost:8080/"
        },
        "id": "czEz_KKZ4vlm",
        "outputId": "80afbc7a-65ea-4bf1-a491-85c6df406f2e"
      },
      "execution_count": 27,
      "outputs": [
        {
          "output_type": "stream",
          "name": "stdout",
          "text": [
            "Time taken: 2.0028316974639893 seconds\n"
          ]
        }
      ]
    },
    {
      "cell_type": "code",
      "source": [
        "def log_args_and_result(func):\n",
        "    def inside(*args, **kwargs):\n",
        "        arg_str = \", \".join(map(repr, args))\n",
        "        result = func(*args, **kwargs)\n",
        "        print(f\"Arguments: {arg_str}, Result: {result}\")\n",
        "        return result\n",
        "    return inside\n",
        "\n",
        "@log_args_and_result\n",
        "def add(a, b):\n",
        "    return a + b\n",
        "\n",
        "result = add(3, 4)\n"
      ],
      "metadata": {
        "colab": {
          "base_uri": "https://localhost:8080/"
        },
        "id": "Ek5_jKyJ5b-K",
        "outputId": "87793b48-74b0-4615-a4e9-0e4593136fe0"
      },
      "execution_count": 28,
      "outputs": [
        {
          "output_type": "stream",
          "name": "stdout",
          "text": [
            "Arguments: 3, 4, Result: 7\n"
          ]
        }
      ]
    },
    {
      "cell_type": "code",
      "source": [
        "def memoize(func):\n",
        "    cache = {}\n",
        "\n",
        "    def inside(*args):\n",
        "        if args not in cache:\n",
        "            cache[args] = func(*args)\n",
        "        return cache[args]\n",
        "\n",
        "    return inside\n",
        "\n",
        "@memoize\n",
        "def fibonacci(n):\n",
        "    if n <= 1:\n",
        "        return n\n",
        "    else:\n",
        "        return fibonacci(n - 1) + fibonacci(n - 2)\n",
        "\n",
        "result = fibonacci(10)\n"
      ],
      "metadata": {
        "id": "B5W2f64B5olW"
      },
      "execution_count": 29,
      "outputs": []
    },
    {
      "cell_type": "code",
      "source": [
        "result"
      ],
      "metadata": {
        "colab": {
          "base_uri": "https://localhost:8080/"
        },
        "id": "0c0Za8Ce5wJR",
        "outputId": "299abf1b-5f2a-4948-dd8d-869c1ba010fb"
      },
      "execution_count": 30,
      "outputs": [
        {
          "output_type": "execute_result",
          "data": {
            "text/plain": [
              "55"
            ]
          },
          "metadata": {},
          "execution_count": 30
        }
      ]
    },
    {
      "cell_type": "code",
      "source": [
        "def access_control(required_role):\n",
        "    def decorator(func):\n",
        "        def inside(user_role):\n",
        "            if user_role == required_role:\n",
        "                return func(user_role)\n",
        "            else:\n",
        "                return \"Access Denied\"\n",
        "        return inside\n",
        "    return decorator\n",
        "\n",
        "@access_control(\"admin\")\n",
        "def admin_panel(user_role):\n",
        "    return \"Admin panel accessed.\"\n",
        "\n",
        "result = admin_panel(\"admin\")\n"
      ],
      "metadata": {
        "id": "9Ogex2pY53j7"
      },
      "execution_count": 31,
      "outputs": []
    },
    {
      "cell_type": "code",
      "source": [
        "result"
      ],
      "metadata": {
        "colab": {
          "base_uri": "https://localhost:8080/",
          "height": 36
        },
        "id": "TmK3zGlG6BGH",
        "outputId": "0fd625cf-86fa-4e7b-a988-04c5999c6822"
      },
      "execution_count": 32,
      "outputs": [
        {
          "output_type": "execute_result",
          "data": {
            "text/plain": [
              "'Admin panel accessed.'"
            ],
            "application/vnd.google.colaboratory.intrinsic+json": {
              "type": "string"
            }
          },
          "metadata": {},
          "execution_count": 32
        }
      ]
    },
    {
      "cell_type": "code",
      "source": [
        "def retry(max_attempts):\n",
        "    def decorator(func):\n",
        "        def inside(*args, **kwargs):\n",
        "            attempts = 0\n",
        "            while attempts < max_attempts:\n",
        "                try:\n",
        "                    return func(*args, **kwargs)\n",
        "                except Exception as e:\n",
        "                    attempts += 1\n",
        "                    print(f\"Attempt {attempts}: {e}\")\n",
        "            raise Exception(\"Max attempts reached\")\n",
        "\n",
        "        return inside\n",
        "    return decorator\n",
        "\n",
        "@retry(3)\n",
        "def perform_operation():\n",
        "    import random\n",
        "    if random.random() < 0.5:\n",
        "        raise ValueError(\"Operation failed\")\n",
        "    return \"Operation successful\"\n",
        "\n",
        "result = perform_operation()\n"
      ],
      "metadata": {
        "id": "WNK5c62C6Eqn"
      },
      "execution_count": 33,
      "outputs": []
    },
    {
      "cell_type": "code",
      "source": [
        "result"
      ],
      "metadata": {
        "colab": {
          "base_uri": "https://localhost:8080/",
          "height": 36
        },
        "id": "uEO35gI16Oio",
        "outputId": "824e8c22-898c-4593-f343-e37851a53dec"
      },
      "execution_count": 34,
      "outputs": [
        {
          "output_type": "execute_result",
          "data": {
            "text/plain": [
              "'Operation successful'"
            ],
            "application/vnd.google.colaboratory.intrinsic+json": {
              "type": "string"
            }
          },
          "metadata": {},
          "execution_count": 34
        }
      ]
    },
    {
      "cell_type": "markdown",
      "source": [
        "# 1. Evaluating Employee Performance:"
      ],
      "metadata": {
        "id": "m7pDezbQA0qc"
      }
    },
    {
      "cell_type": "code",
      "source": [
        "def evaluate_employee_performance(employees):\n",
        "    evaluated_employees = []\n",
        "    for employee in employees:\n",
        "        name = employee[\"name\"]\n",
        "        scores = employee[\"scores\"]\n",
        "        weights = employee[\"weights\"]\n",
        "\n",
        "        performance_score = sum(scores[criterion] * weights[criterion] for criterion in scores)\n",
        "\n",
        "        evaluated_employees.append({\"name\": name, \"performance_score\": performance_score})\n",
        "\n",
        "    return evaluated_employees\n",
        "\n",
        "employees = [\n",
        "    {\"name\": \"John\", \"scores\": {\"Quality of Work\": 90, \"Team Collaboration\": 80}, \"weights\": {\"Quality of Work\": 0.6, \"Team Collaboration\": 0.4}},\n",
        "    {\"name\": \"Alice\", \"scores\": {\"Quality of Work\": 85, \"Team Collaboration\": 95}, \"weights\": {\"Quality of Work\": 0.5, \"Team Collaboration\": 0.5}},\n",
        "]\n",
        "\n",
        "evaluated_employees = evaluate_employee_performance(employees)\n",
        "for employee in evaluated_employees:\n",
        "    print(employee)\n"
      ],
      "metadata": {
        "colab": {
          "base_uri": "https://localhost:8080/"
        },
        "id": "apK6EMjJAY5z",
        "outputId": "ee8ac5dd-a47e-4fb8-e371-c28dd2c2b1d1"
      },
      "execution_count": 44,
      "outputs": [
        {
          "output_type": "stream",
          "name": "stdout",
          "text": [
            "{'name': 'John', 'performance_score': 86.0}\n",
            "{'name': 'Alice', 'performance_score': 90.0}\n"
          ]
        }
      ]
    },
    {
      "cell_type": "markdown",
      "source": [
        "# 2nd Student Report"
      ],
      "metadata": {
        "id": "bhxcpibxBlAI"
      }
    },
    {
      "cell_type": "code",
      "source": [
        "def calculate_total_marks(N, M, marks):\n",
        "    total_marks = []\n",
        "    for student_marks in marks:\n",
        "        min_subject_marks = min(student_marks)\n",
        "        class_average = sum(student_marks) / M\n",
        "        adjusted_total_marks = sum(student_marks) - min_subject_marks\n",
        "        total_marks.append(adjusted_total_marks)\n",
        "\n",
        "    return total_marks\n"
      ],
      "metadata": {
        "id": "LpPqL-4UBdou"
      },
      "execution_count": 45,
      "outputs": []
    },
    {
      "cell_type": "code",
      "source": [
        "N = 3\n",
        "M = 4\n",
        "marks = [\n",
        "    [85, 90, 88, 92],\n",
        "    [78, 75, 80, 89],\n",
        "    [92, 87, 79, 88]\n",
        "]\n",
        "\n",
        "total_marks = calculate_total_marks(N, M, marks)\n",
        "print(total_marks)\n"
      ],
      "metadata": {
        "colab": {
          "base_uri": "https://localhost:8080/"
        },
        "id": "LPcNjZcnC_7w",
        "outputId": "0cdc7b34-f17d-4c6b-a634-4d8c06e1de8f"
      },
      "execution_count": 54,
      "outputs": [
        {
          "output_type": "stream",
          "name": "stdout",
          "text": [
            "[270, 247, 267]\n"
          ]
        }
      ]
    },
    {
      "cell_type": "markdown",
      "source": [
        "#3. Sorting Employ Record"
      ],
      "metadata": {
        "id": "Z4jeerxqB4Sr"
      }
    },
    {
      "cell_type": "code",
      "source": [
        "def sort_employees_by_id(employees):\n",
        "    return sorted(employees, key=lambda x: x[\"id\"])\n",
        "\n",
        "def sort_employees_by_salary(employees):\n",
        "    return sorted(employees, key=lambda x: x[\"salary\"], reverse=True)\n"
      ],
      "metadata": {
        "id": "zfD4XMZ_B0WE"
      },
      "execution_count": 46,
      "outputs": []
    },
    {
      "cell_type": "code",
      "source": [
        "employees = [\n",
        "    {\"id\": 101, \"name\": \"John\", \"salary\": 60000},\n",
        "    {\"id\": 103, \"name\": \"Alice\", \"salary\": 75000},\n",
        "    {\"id\": 102, \"name\": \"Bob\", \"salary\": 65000},\n",
        "]\n",
        "\n",
        "sorted_by_id = sort_employees_by_id(employees)\n",
        "sorted_by_salary = sort_employees_by_salary(employees)\n",
        "\n",
        "print(\"Sorted by ID:\")\n",
        "for employee in sorted_by_id:\n",
        "    print(employee)\n",
        "\n",
        "print(\"\\nSorted by Salary:\")\n",
        "for employee in sorted_by_salary:\n",
        "    print(employee)\n"
      ],
      "metadata": {
        "colab": {
          "base_uri": "https://localhost:8080/"
        },
        "id": "6dJJZ19yDKV4",
        "outputId": "de4dc22a-9e11-4aa5-e6b7-d9e9a3036243"
      },
      "execution_count": 55,
      "outputs": [
        {
          "output_type": "stream",
          "name": "stdout",
          "text": [
            "Sorted by ID:\n",
            "{'id': 101, 'name': 'John', 'salary': 60000}\n",
            "{'id': 102, 'name': 'Bob', 'salary': 65000}\n",
            "{'id': 103, 'name': 'Alice', 'salary': 75000}\n",
            "\n",
            "Sorted by Salary:\n",
            "{'id': 103, 'name': 'Alice', 'salary': 75000}\n",
            "{'id': 102, 'name': 'Bob', 'salary': 65000}\n",
            "{'id': 101, 'name': 'John', 'salary': 60000}\n"
          ]
        }
      ]
    },
    {
      "cell_type": "markdown",
      "source": [
        "#4. Find the Kth Number from a Set of Prime Numbers:"
      ],
      "metadata": {
        "id": "I0aLD1RZCGBK"
      }
    },
    {
      "cell_type": "code",
      "source": [
        "def find_kth_number(N, prime_numbers, K):\n",
        "    result = [1]  # Initialize the result list with 1 (the multiplicative identity)\n",
        "\n",
        "    while len(result) < K:\n",
        "        # Find the minimum number that can be created by multiplying a prime number from the collection\n",
        "        min_num = min(result[i] * prime_numbers[j] for i in range(len(result)) for j in range(N))\n",
        "\n",
        "        # Add the minimum number to the result list\n",
        "        result.append(min_num)\n",
        "\n",
        "    return result[K - 1]\n",
        "\n",
        "# Example usage:\n",
        "N = 3\n",
        "prime_numbers = [2, 3, 5]\n",
        "K = 4\n",
        "result = find_kth_number(N, prime_numbers, K)\n",
        "print(result)  # This will output 10 (2 * 5 = 10), the 4th number Dylan can create.\n"
      ],
      "metadata": {
        "colab": {
          "base_uri": "https://localhost:8080/"
        },
        "id": "u434mwWL_mut",
        "outputId": "bb9f1622-6e58-4c79-c35c-771b8e37500d"
      },
      "execution_count": 43,
      "outputs": [
        {
          "output_type": "stream",
          "name": "stdout",
          "text": [
            "2\n"
          ]
        }
      ]
    },
    {
      "cell_type": "markdown",
      "source": [
        "#5. Circular Picnic Game:"
      ],
      "metadata": {
        "id": "39fJU7T1CIJi"
      }
    },
    {
      "cell_type": "code",
      "source": [
        "def max_continuous_sum(n, numbers):\n",
        "    max_sum = current_sum = numbers[0]\n",
        "    for num in numbers[1:]:\n",
        "        current_sum = max(num, current_sum + num)\n",
        "        max_sum = max(max_sum, current_sum)\n",
        "    return max_sum\n"
      ],
      "metadata": {
        "id": "ZmiUc2cJCAUC"
      },
      "execution_count": 48,
      "outputs": []
    },
    {
      "cell_type": "code",
      "source": [
        "n = 5\n",
        "numbers = [10, -4, 1, 3, 3]\n",
        "\n",
        "max_sum = max_continuous_sum(n, numbers)\n",
        "print(max_sum)\n"
      ],
      "metadata": {
        "colab": {
          "base_uri": "https://localhost:8080/"
        },
        "id": "MYPwoaxuDdSL",
        "outputId": "242bd355-52f2-4e20-d710-921310f54e41"
      },
      "execution_count": 57,
      "outputs": [
        {
          "output_type": "stream",
          "name": "stdout",
          "text": [
            "13\n"
          ]
        }
      ]
    },
    {
      "cell_type": "markdown",
      "source": [
        "#6. Maximum Subarray Sum:"
      ],
      "metadata": {
        "id": "6FFFd-znCTG0"
      }
    },
    {
      "cell_type": "code",
      "source": [
        "def max_subarray_sum(arr, n):\n",
        "    max_sum = current_sum = arr[0]\n",
        "    for i in range(1, n):\n",
        "        current_sum = max(arr[i], current_sum + arr[i])\n",
        "        max_sum = max(max_sum, current_sum)\n",
        "    return max_sum\n"
      ],
      "metadata": {
        "id": "QNEaCABjCORS"
      },
      "execution_count": 49,
      "outputs": []
    },
    {
      "cell_type": "code",
      "source": [
        "arr = [-2, 1, -3, 4, -1, 2, 1, -5, 4]\n",
        "n = len(arr)\n",
        "\n",
        "result = max_subarray_sum(arr, n)\n",
        "print(result)\n"
      ],
      "metadata": {
        "colab": {
          "base_uri": "https://localhost:8080/"
        },
        "id": "o_OqnVHrDjpp",
        "outputId": "61f5e148-d168-40ae-b0d1-e18c51d09960"
      },
      "execution_count": 58,
      "outputs": [
        {
          "output_type": "stream",
          "name": "stdout",
          "text": [
            "6\n"
          ]
        }
      ]
    },
    {
      "cell_type": "markdown",
      "source": [
        "#7. Longest Common Subsequence:"
      ],
      "metadata": {
        "id": "qhCFJkjdCZ1m"
      }
    },
    {
      "cell_type": "code",
      "source": [
        "def longest_common_subsequence(s1, s2):\n",
        "    m, n = len(s1), len(s2)\n",
        "    dp = [[0] * (n + 1) for _ in range(m + 1)]\n",
        "\n",
        "    for i in range(1, m + 1):\n",
        "        for j in range(1, n + 1):\n",
        "            if s1[i - 1] == s2[j - 1]:\n",
        "                dp[i][j] = dp[i - 1][j - 1] + 1\n",
        "            else:\n",
        "                dp[i][j] = max(dp[i - 1][j], dp[i][j - 1])\n",
        "\n",
        "    return dp[m][n]\n"
      ],
      "metadata": {
        "id": "QG29P5PdCWld"
      },
      "execution_count": 50,
      "outputs": []
    },
    {
      "cell_type": "code",
      "source": [
        "s1 = \"AGGTAB\"\n",
        "s2 = \"GXTXAYB\"\n",
        "\n",
        "result = longest_common_subsequence(s1, s2)\n",
        "print(result)\n"
      ],
      "metadata": {
        "colab": {
          "base_uri": "https://localhost:8080/"
        },
        "id": "XKfP9PrTDqDc",
        "outputId": "23fa27e4-e1bb-42a5-d399-40f36328acb3"
      },
      "execution_count": 59,
      "outputs": [
        {
          "output_type": "stream",
          "name": "stdout",
          "text": [
            "4\n"
          ]
        }
      ]
    },
    {
      "cell_type": "markdown",
      "source": [
        "#8. Matrix Spiral Order:"
      ],
      "metadata": {
        "id": "T5rhjZwKChP9"
      }
    },
    {
      "cell_type": "code",
      "source": [
        "def spiral_order(matrix):\n",
        "    result = []\n",
        "    while matrix:\n",
        "        result += matrix[0]\n",
        "        matrix = list(zip(*matrix[1:]))[::-1]\n",
        "    return result\n"
      ],
      "metadata": {
        "id": "GEuofFEbCcvO"
      },
      "execution_count": 51,
      "outputs": []
    },
    {
      "cell_type": "code",
      "source": [
        "matrix = [\n",
        "    [1, 2, 3],\n",
        "    [4, 5, 6],\n",
        "    [7, 8, 9]\n",
        "]\n",
        "\n",
        "result = spiral_order(matrix)\n",
        "print(result)\n"
      ],
      "metadata": {
        "colab": {
          "base_uri": "https://localhost:8080/"
        },
        "id": "IpDiyivPDviw",
        "outputId": "9d720e07-0b10-4cb1-e511-9e680a39f074"
      },
      "execution_count": 60,
      "outputs": [
        {
          "output_type": "stream",
          "name": "stdout",
          "text": [
            "[1, 2, 3, 6, 9, 8, 7, 4, 5]\n"
          ]
        }
      ]
    }
  ]
}